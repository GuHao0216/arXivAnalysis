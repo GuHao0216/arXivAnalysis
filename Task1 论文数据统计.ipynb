{
 "cells": [
  {
   "cell_type": "markdown",
   "metadata": {},
   "source": [
    "## 任务说明\n",
    "\n",
    "- 任务主题：论文数量统计，即统计2019年全年计算机各个方向论文数量；\n",
    "- 任务内容：赛题的理解、使用 **Pandas** 读取数据并进行统计；\n",
    "- 任务成果：学习 **Pandas** 的基础操作；\n",
    "- 可参考的学习资料：[开源组织Datawhale joyful-pandas项目](https://github.com/datawhalechina/joyful-pandas)"
   ]
  },
  {
   "cell_type": "markdown",
   "metadata": {},
   "source": [
    "## 数据集介绍\n",
    "\n",
    "- 数据集来源：[数据集链接](https://www.kaggle.com/Cornell-University/arxiv)；\n",
    "- 数据集的格式如下：\n",
    "  - `id`：arXiv ID，可用于访问论文；\n",
    "  - `submitter`：论文提交者；\n",
    "  - `authors`：论文作者；\n",
    "  - `title`：论文标题；\n",
    "  - `comments`：论文页数和图表等其他信息；\n",
    "  - `journal-ref`：论文发表的期刊的信息；\n",
    "  - `doi`：数字对象标识符，[https://www.doi.org](https://www.doi.org)；\n",
    "  - `report-no`：报告编号；\n",
    "  - `categories`：论文在 arXiv 系统的所属类别或标签；\n",
    "  - `license`：文章的许可证；\n",
    "  - `abstract`：论文摘要；\n",
    "  - `versions`：论文版本；\n",
    "  - `authors_parsed`：作者的信息。"
   ]
  },
  {
   "cell_type": "markdown",
   "metadata": {},
   "source": [
    "```\n",
    "\"root\":{\n",
    "\t\t\"id\":string\"0704.0001\"\n",
    "\t\t\"submitter\":string\"Pavel Nadolsky\"\n",
    "\t\t\"authors\":string\"C. Bal\\'azs, E. L. Berger, P. M. Nadolsky, C.-P. Yuan\"\n",
    "\t\t\"title\":string\"Calculation of prompt diphoton production cross sections at Tevatron and LHC energies\"\n",
    "\t\t\"comments\":string\"37 pages, 15 figures; published version\"\n",
    "\t\t\"journal-ref\":string\"Phys.Rev.D76:013009,2007\"\n",
    "\t\t\"doi\":string\"10.1103/PhysRevD.76.013009\"\n",
    "\t\t\"report-no\":string\"ANL-HEP-PR-07-12\"\n",
    "\t\t\"categories\":string\"hep-ph\"\n",
    "\t\t\"license\":NULL\n",
    "\t\t\"abstract\":string\"  A fully differential calculation in perturbative quantum chromodynamics is presented for the production of massive photon pairs at hadron colliders. All next-to-leading order perturbative contributions from quark-antiquark, gluon-(anti)quark, and gluon-gluon subprocesses are included, as well as all-orders resummation of initial-state gluon radiation valid at next-to-next-to leading logarithmic accuracy. The region of phase space is specified in which the calculation is most reliable. Good agreement is demonstrated with data from the Fermilab Tevatron, and predictions are made for more detailed tests with CDF and DO data. Predictions are shown for distributions of diphoton pairs produced at the energy of the Large Hadron Collider (LHC). Distributions of the diphoton pairs from the decay of a Higgs boson are contrasted with those produced from QCD processes at the LHC, showing that enhanced sensitivity to the signal can be obtained with judicious selection of events.\"\n",
    "\t\t\"versions\":[\n",
    "\t\t\t\t0:{\n",
    "\t\t\t\t\t\t\"version\":string\"v1\"\n",
    "\t\t\t\t\t\t\"created\":string\"Mon, 2 Apr 2007 19:18:42 GMT\"\n",
    "\t\t\t\t\t}\n",
    "\t\t\t\t1:{\n",
    "\t\t\t\t\t\t\"version\":string\"v2\"\n",
    "\t\t\t\t\t\t\"created\":string\"Tue, 24 Jul 2007 20:10:27 GMT\"\n",
    "\t\t\t\t\t}]\n",
    "\t\t\"update_date\":string\"2008-11-26\"\n",
    "\t\t\"authors_parsed\":[\n",
    "\t\t\t\t0:[\n",
    "\t\t\t\t\t\t0:string\"Balázs\"\n",
    "\t\t\t\t\t\t1:string\"C.\"\n",
    "\t\t\t\t\t\t2:string\"\"]\n",
    "\t\t\t\t1:[\n",
    "\t\t\t\t\t\t0:string\"Berger\"\n",
    "\t\t\t\t\t\t1:string\"E. L.\"\n",
    "\t\t\t\t\t\t2:string\"\"]\n",
    "\t\t\t\t2:[\n",
    "\t\t\t\t\t\t0:string\"Nadolsky\"\n",
    "\t\t\t\t\t\t1:string\"P. M.\"\n",
    "\t\t\t\t\t\t2:string\"\"]\n",
    "\t\t\t\t3:[\n",
    "\t\t\t\t\t\t0:string\"Yuan\"\n",
    "\t\t\t\t\t\t1:string\"C. -P.\"\n",
    "\t\t\t\t\t\t2:string\"\"]]\n",
    "}\n",
    "```\n"
   ]
  },
  {
   "cell_type": "markdown",
   "metadata": {},
   "source": [
    "## arxiv论文类别介绍\n",
    "\n",
    "我们从arxiv官网，查询到论文的类别名称以及其解释如下。\n",
    "\n",
    "链接：[https://arxiv.org/help/api/user-manual](https://arxiv.org/help/api/user-manual)  的 5.3 小节的 Subject Classifications 的部分，或 [https://arxiv.org/category_taxonomy](https://arxiv.org/category_taxonomy)， 具体的153种paper的类别部分如下：\n",
    "\n",
    "```json\n",
    "'astro-ph': 'Astrophysics',\n",
    "'astro-ph.CO': 'Cosmology and Nongalactic Astrophysics',\n",
    "'astro-ph.EP': 'Earth and Planetary Astrophysics',\n",
    "'astro-ph.GA': 'Astrophysics of Galaxies',\n",
    "'cs.AI': 'Artificial Intelligence',\n",
    "'cs.AR': 'Hardware Architecture',\n",
    "'cs.CC': 'Computational Complexity',\n",
    "'cs.CE': 'Computational Engineering, Finance, and Science',\n",
    "'cs.CV': 'Computer Vision and Pattern Recognition',\n",
    "'cs.CY': 'Computers and Society',\n",
    "'cs.DB': 'Databases',\n",
    "'cs.DC': 'Distributed, Parallel, and Cluster Computing',\n",
    "'cs.DL': 'Digital Libraries',\n",
    "'cs.NA': 'Numerical Analysis',\n",
    "'cs.NE': 'Neural and Evolutionary Computing',\n",
    "'cs.NI': 'Networking and Internet Architecture',\n",
    "'cs.OH': 'Other Computer Science',\n",
    "'cs.OS': 'Operating Systems',\n",
    "```"
   ]
  },
  {
   "cell_type": "markdown",
   "metadata": {},
   "source": [
    "## 具体代码实现以及讲解\n",
    "\n",
    "### 导入package并读取原始数据"
   ]
  },
  {
   "cell_type": "code",
   "execution_count": 3,
   "metadata": {},
   "outputs": [
    {
     "name": "stdout",
     "output_type": "stream",
     "text": [
      "Looking in indexes: https://mirrors.aliyun.com/pypi/simple\n",
      "Requirement already satisfied: lxml in /data/nas/workspace/envs/python3.6/site-packages (4.6.2)\n",
      "Requirement already satisfied: bs4 in /data/nas/workspace/envs/python3.6/site-packages (0.0.1)\n",
      "Requirement already satisfied: beautifulsoup4 in /data/nas/workspace/envs/python3.6/site-packages (from bs4) (4.9.3)\n",
      "Requirement already satisfied: soupsieve>1.2 in /data/nas/workspace/envs/python3.6/site-packages (from beautifulsoup4->bs4) (2.1)\n"
     ]
    }
   ],
   "source": [
    "!pip3 install lxml bs4 --user"
   ]
  },
  {
   "cell_type": "code",
   "execution_count": 4,
   "metadata": {
    "ExecuteTime": {
     "end_time": "2021-01-02T04:19:22.665359Z",
     "start_time": "2021-01-02T04:19:22.001309Z"
    }
   },
   "outputs": [],
   "source": [
    "# 导入所需的package\n",
    "import seaborn as sns #用于画图\n",
    "from bs4 import BeautifulSoup #用于爬取arxiv的数据\n",
    "import re #用于正则表达式，匹配字符串的模式\n",
    "import requests #用于网络连接，发送网络请求，使用域名获取对应信息\n",
    "import json #读取数据，我们的数据为json格式的\n",
    "import pandas as pd #数据处理，数据分析\n",
    "import matplotlib.pyplot as plt #画图工具"
   ]
  },
  {
   "cell_type": "markdown",
   "metadata": {},
   "source": [
    "这里使用的package的版本如下（python 3.7.4）：\n",
    "\n",
    "- seaborn：0.9.0\n",
    "- BeautifulSoup：4.8.0\n",
    "- requests：2.22.0\n",
    "- json：0.8.5\n",
    "- pandas：0.25.1\n",
    "- matplotlib：3.1.1"
   ]
  },
  {
   "cell_type": "code",
   "execution_count": 5,
   "metadata": {
    "ExecuteTime": {
     "end_time": "2021-01-02T04:19:22.885771Z",
     "start_time": "2021-01-02T04:19:22.871625Z"
    }
   },
   "outputs": [
    {
     "data": {
      "text/plain": [
       "(100, 14)"
      ]
     },
     "execution_count": 5,
     "metadata": {},
     "output_type": "execute_result"
    }
   ],
   "source": [
    "# 读入数据\n",
    "data  = []\n",
    "\n",
    "#使用with语句优势：1.自动关闭文件句柄；2.自动显示（处理）文件读取数据异常\n",
    "with open(\"arxiv-metadata-oai-2019.json\", 'r') as f: \n",
    "    for idx, line in enumerate(f): \n",
    "        \n",
    "        # 读取前100行，如果读取所有数据需要8G内存\n",
    "        if idx >= 100:\n",
    "            break\n",
    "        \n",
    "        data.append(json.loads(line))\n",
    "        \n",
    "data = pd.DataFrame(data) #将list变为dataframe格式，方便使用pandas进行分析\n",
    "data.shape #显示数据大小"
   ]
  },
  {
   "cell_type": "code",
   "execution_count": 6,
   "metadata": {
    "ExecuteTime": {
     "end_time": "2021-01-02T04:19:23.611965Z",
     "start_time": "2021-01-02T04:19:23.591544Z"
    },
    "scrolled": true
   },
   "outputs": [
    {
     "data": {
      "text/html": [
       "<div>\n",
       "<style scoped>\n",
       "    .dataframe tbody tr th:only-of-type {\n",
       "        vertical-align: middle;\n",
       "    }\n",
       "\n",
       "    .dataframe tbody tr th {\n",
       "        vertical-align: top;\n",
       "    }\n",
       "\n",
       "    .dataframe thead th {\n",
       "        text-align: right;\n",
       "    }\n",
       "</style>\n",
       "<table border=\"1\" class=\"dataframe\">\n",
       "  <thead>\n",
       "    <tr style=\"text-align: right;\">\n",
       "      <th></th>\n",
       "      <th>id</th>\n",
       "      <th>submitter</th>\n",
       "      <th>authors</th>\n",
       "      <th>title</th>\n",
       "      <th>comments</th>\n",
       "      <th>journal-ref</th>\n",
       "      <th>doi</th>\n",
       "      <th>report-no</th>\n",
       "      <th>categories</th>\n",
       "      <th>license</th>\n",
       "      <th>abstract</th>\n",
       "      <th>versions</th>\n",
       "      <th>update_date</th>\n",
       "      <th>authors_parsed</th>\n",
       "    </tr>\n",
       "  </thead>\n",
       "  <tbody>\n",
       "    <tr>\n",
       "      <th>0</th>\n",
       "      <td>0704.0297</td>\n",
       "      <td>Sung-Chul Yoon</td>\n",
       "      <td>Sung-Chul Yoon, Philipp Podsiadlowski and Step...</td>\n",
       "      <td>Remnant evolution after a carbon-oxygen white ...</td>\n",
       "      <td>15 pages, 15 figures, 3 tables, submitted to M...</td>\n",
       "      <td>None</td>\n",
       "      <td>10.1111/j.1365-2966.2007.12161.x</td>\n",
       "      <td>None</td>\n",
       "      <td>astro-ph</td>\n",
       "      <td>None</td>\n",
       "      <td>We systematically explore the evolution of t...</td>\n",
       "      <td>[{'version': 'v1', 'created': 'Tue, 3 Apr 2007...</td>\n",
       "      <td>2019-08-19</td>\n",
       "      <td>[[Yoon, Sung-Chul, ], [Podsiadlowski, Philipp,...</td>\n",
       "    </tr>\n",
       "    <tr>\n",
       "      <th>1</th>\n",
       "      <td>0704.0342</td>\n",
       "      <td>Patrice Ntumba Pungu</td>\n",
       "      <td>B. Dugmore and PP. Ntumba</td>\n",
       "      <td>Cofibrations in the Category of Frolicher Spac...</td>\n",
       "      <td>27 pages</td>\n",
       "      <td>None</td>\n",
       "      <td>None</td>\n",
       "      <td>None</td>\n",
       "      <td>math.AT</td>\n",
       "      <td>None</td>\n",
       "      <td>Cofibrations are defined in the category of ...</td>\n",
       "      <td>[{'version': 'v1', 'created': 'Tue, 3 Apr 2007...</td>\n",
       "      <td>2019-08-19</td>\n",
       "      <td>[[Dugmore, B., ], [Ntumba, PP., ]]</td>\n",
       "    </tr>\n",
       "    <tr>\n",
       "      <th>2</th>\n",
       "      <td>0704.0360</td>\n",
       "      <td>Zaqarashvili</td>\n",
       "      <td>T.V. Zaqarashvili and K Murawski</td>\n",
       "      <td>Torsional oscillations of longitudinally inhom...</td>\n",
       "      <td>6 pages, 3 figures, accepted in A&amp;A</td>\n",
       "      <td>None</td>\n",
       "      <td>10.1051/0004-6361:20077246</td>\n",
       "      <td>None</td>\n",
       "      <td>astro-ph</td>\n",
       "      <td>None</td>\n",
       "      <td>We explore the effect of an inhomogeneous ma...</td>\n",
       "      <td>[{'version': 'v1', 'created': 'Tue, 3 Apr 2007...</td>\n",
       "      <td>2019-08-19</td>\n",
       "      <td>[[Zaqarashvili, T. V., ], [Murawski, K, ]]</td>\n",
       "    </tr>\n",
       "    <tr>\n",
       "      <th>3</th>\n",
       "      <td>0704.0525</td>\n",
       "      <td>Sezgin Ayg\\\"un</td>\n",
       "      <td>Sezgin Aygun, Ismail Tarhan, Husnu Baysal</td>\n",
       "      <td>On the Energy-Momentum Problem in Static Einst...</td>\n",
       "      <td>This submission has been withdrawn by arXiv ad...</td>\n",
       "      <td>Chin.Phys.Lett.24:355-358,2007</td>\n",
       "      <td>10.1088/0256-307X/24/2/015</td>\n",
       "      <td>None</td>\n",
       "      <td>gr-qc</td>\n",
       "      <td>None</td>\n",
       "      <td>This paper has been removed by arXiv adminis...</td>\n",
       "      <td>[{'version': 'v1', 'created': 'Wed, 4 Apr 2007...</td>\n",
       "      <td>2019-10-21</td>\n",
       "      <td>[[Aygun, Sezgin, ], [Tarhan, Ismail, ], [Baysa...</td>\n",
       "    </tr>\n",
       "    <tr>\n",
       "      <th>4</th>\n",
       "      <td>0704.0535</td>\n",
       "      <td>Antonio Pipino</td>\n",
       "      <td>Antonio Pipino (1,3), Thomas H. Puzia (2,4), a...</td>\n",
       "      <td>The Formation of Globular Cluster Systems in M...</td>\n",
       "      <td>32 pages (referee format), 9 figures, ApJ acce...</td>\n",
       "      <td>Astrophys.J.665:295-305,2007</td>\n",
       "      <td>10.1086/519546</td>\n",
       "      <td>None</td>\n",
       "      <td>astro-ph</td>\n",
       "      <td>None</td>\n",
       "      <td>The most massive elliptical galaxies show a ...</td>\n",
       "      <td>[{'version': 'v1', 'created': 'Wed, 4 Apr 2007...</td>\n",
       "      <td>2019-08-19</td>\n",
       "      <td>[[Pipino, Antonio, ], [Puzia, Thomas H., ], [M...</td>\n",
       "    </tr>\n",
       "  </tbody>\n",
       "</table>\n",
       "</div>"
      ],
      "text/plain": [
       "          id             submitter  \\\n",
       "0  0704.0297        Sung-Chul Yoon   \n",
       "1  0704.0342  Patrice Ntumba Pungu   \n",
       "2  0704.0360          Zaqarashvili   \n",
       "3  0704.0525        Sezgin Ayg\\\"un   \n",
       "4  0704.0535        Antonio Pipino   \n",
       "\n",
       "                                             authors  \\\n",
       "0  Sung-Chul Yoon, Philipp Podsiadlowski and Step...   \n",
       "1                          B. Dugmore and PP. Ntumba   \n",
       "2                   T.V. Zaqarashvili and K Murawski   \n",
       "3          Sezgin Aygun, Ismail Tarhan, Husnu Baysal   \n",
       "4  Antonio Pipino (1,3), Thomas H. Puzia (2,4), a...   \n",
       "\n",
       "                                               title  \\\n",
       "0  Remnant evolution after a carbon-oxygen white ...   \n",
       "1  Cofibrations in the Category of Frolicher Spac...   \n",
       "2  Torsional oscillations of longitudinally inhom...   \n",
       "3  On the Energy-Momentum Problem in Static Einst...   \n",
       "4  The Formation of Globular Cluster Systems in M...   \n",
       "\n",
       "                                            comments  \\\n",
       "0  15 pages, 15 figures, 3 tables, submitted to M...   \n",
       "1                                           27 pages   \n",
       "2                6 pages, 3 figures, accepted in A&A   \n",
       "3  This submission has been withdrawn by arXiv ad...   \n",
       "4  32 pages (referee format), 9 figures, ApJ acce...   \n",
       "\n",
       "                      journal-ref                               doi report-no  \\\n",
       "0                            None  10.1111/j.1365-2966.2007.12161.x      None   \n",
       "1                            None                              None      None   \n",
       "2                            None        10.1051/0004-6361:20077246      None   \n",
       "3  Chin.Phys.Lett.24:355-358,2007        10.1088/0256-307X/24/2/015      None   \n",
       "4    Astrophys.J.665:295-305,2007                    10.1086/519546      None   \n",
       "\n",
       "  categories license                                           abstract  \\\n",
       "0   astro-ph    None    We systematically explore the evolution of t...   \n",
       "1    math.AT    None    Cofibrations are defined in the category of ...   \n",
       "2   astro-ph    None    We explore the effect of an inhomogeneous ma...   \n",
       "3      gr-qc    None    This paper has been removed by arXiv adminis...   \n",
       "4   astro-ph    None    The most massive elliptical galaxies show a ...   \n",
       "\n",
       "                                            versions update_date  \\\n",
       "0  [{'version': 'v1', 'created': 'Tue, 3 Apr 2007...  2019-08-19   \n",
       "1  [{'version': 'v1', 'created': 'Tue, 3 Apr 2007...  2019-08-19   \n",
       "2  [{'version': 'v1', 'created': 'Tue, 3 Apr 2007...  2019-08-19   \n",
       "3  [{'version': 'v1', 'created': 'Wed, 4 Apr 2007...  2019-10-21   \n",
       "4  [{'version': 'v1', 'created': 'Wed, 4 Apr 2007...  2019-08-19   \n",
       "\n",
       "                                      authors_parsed  \n",
       "0  [[Yoon, Sung-Chul, ], [Podsiadlowski, Philipp,...  \n",
       "1                 [[Dugmore, B., ], [Ntumba, PP., ]]  \n",
       "2         [[Zaqarashvili, T. V., ], [Murawski, K, ]]  \n",
       "3  [[Aygun, Sezgin, ], [Tarhan, Ismail, ], [Baysa...  \n",
       "4  [[Pipino, Antonio, ], [Puzia, Thomas H., ], [M...  "
      ]
     },
     "execution_count": 6,
     "metadata": {},
     "output_type": "execute_result"
    }
   ],
   "source": [
    "data.head() #显示数据的前五行"
   ]
  },
  {
   "cell_type": "code",
   "execution_count": 7,
   "metadata": {
    "ExecuteTime": {
     "end_time": "2021-01-02T04:19:43.502195Z",
     "start_time": "2021-01-02T04:19:24.012183Z"
    },
    "scrolled": true
   },
   "outputs": [],
   "source": [
    "def readArxivFile(path, columns=['id', 'submitter', 'authors', 'title', 'comments', 'journal-ref', 'doi',\n",
    "       'report-no', 'categories', 'license', 'abstract', 'versions',\n",
    "       'update_date', 'authors_parsed'], count=None):\n",
    "    '''\n",
    "    定义读取文件的函数\n",
    "        path: 文件路径\n",
    "        columns: 需要选择的列\n",
    "        count: 读取行数\n",
    "    '''\n",
    "    \n",
    "    data  = []\n",
    "    with open(path, 'r') as f: \n",
    "        for idx, line in enumerate(f): \n",
    "            if idx == count:\n",
    "                break\n",
    "                \n",
    "            d = json.loads(line)\n",
    "            d = {col : d[col] for col in columns}\n",
    "            data.append(d)\n",
    "\n",
    "    data = pd.DataFrame(data)\n",
    "    return data\n",
    "\n",
    "data = readArxivFile('arxiv-metadata-oai-2019.json', ['id', 'categories', 'update_date'])\n"
   ]
  },
  {
   "cell_type": "markdown",
   "metadata": {},
   "source": [
    "### 数据预处理\n",
    "\n",
    "首先我们先来粗略统计论文的种类信息：\n",
    "\n",
    "- `count`：一列数据的元素个数；\n",
    "- `unique`：一列数据中元素的种类；\n",
    "- `top`：一列数据中出现频率最高的元素；\n",
    "- `freq`：一列数据中出现频率最高的元素的个数；"
   ]
  },
  {
   "cell_type": "code",
   "execution_count": 8,
   "metadata": {
    "ExecuteTime": {
     "end_time": "2021-01-02T04:19:43.951021Z",
     "start_time": "2021-01-02T04:19:43.504235Z"
    },
    "scrolled": true
   },
   "outputs": [
    {
     "data": {
      "text/plain": [
       "count     170618\n",
       "unique     15592\n",
       "top        cs.CV\n",
       "freq        5559\n",
       "Name: categories, dtype: object"
      ]
     },
     "execution_count": 8,
     "metadata": {},
     "output_type": "execute_result"
    }
   ],
   "source": [
    "data[\"categories\"].describe()"
   ]
  },
  {
   "cell_type": "markdown",
   "metadata": {
    "ExecuteTime": {
     "end_time": "2021-01-02T03:39:27.397724Z",
     "start_time": "2021-01-02T03:39:27.392255Z"
    }
   },
   "source": [
    "以上的结果表明：共有1338381个数据，有61371个子类（因为有论文的类别是多个，例如一篇paper的类别是CS.AI & CS.MM和一篇paper的类别是CS.AI & CS.OS属于不同的子类别，这里仅仅是粗略统计），其中最多的种类是astro-ph，即Astrophysics（天体物理学），共出现了86914次。\n",
    "\n",
    "由于部分论文的类别不止一种，所以下面我们判断在本数据集中共出现了多少种独立的数据集。"
   ]
  },
  {
   "cell_type": "code",
   "execution_count": null,
   "metadata": {
    "ExecuteTime": {
     "end_time": "2021-01-02T04:19:45.909106Z",
     "start_time": "2021-01-02T04:19:43.952599Z"
    }
   },
   "outputs": [],
   "source": [
    "unique_categories = set([i for l in [x.split(' ') for x in data[\"categories\"]] for i in l])\n",
    "len(unique_categories)\n",
    "unique_categories"
   ]
  },
  {
   "cell_type": "markdown",
   "metadata": {},
   "source": [
    "这里使用了 split 函数将多类别使用 “ ”（空格）分开，组成list，并使用 for 循环将独立出现的类别找出来，并使用 set 类别，将重复项去除得到最终所有的独立paper种类。"
   ]
  },
  {
   "cell_type": "markdown",
   "metadata": {},
   "source": [
    "从以上结果发现，共有176种论文种类，比我们直接从 [https://arxiv.org/help/api/user-manual](https://arxiv.org/help/api/user-manual)  的 5.3 小节的 Subject Classifications 的部分或 [https://arxiv.org/category_taxonomy](https://arxiv.org/category_taxonomy)中的到的类别少，这说明存在一些官网上没有的类别，这是一个小细节。不过对于我们的计算机方向的论文没有影响，依然是以下的40个类别，我们从原数据中提取的和从官网的到的种类是可以一一对应的。"
   ]
  },
  {
   "cell_type": "markdown",
   "metadata": {},
   "source": [
    "我们的任务要求对于2019年以后的paper进行分析，所以首先对于时间特征进行预处理，从而得到2019年以后的所有种类的论文："
   ]
  },
  {
   "cell_type": "code",
   "execution_count": null,
   "metadata": {
    "ExecuteTime": {
     "end_time": "2021-01-02T04:19:46.628162Z",
     "start_time": "2021-01-02T04:19:45.910463Z"
    },
    "scrolled": true
   },
   "outputs": [],
   "source": [
    "data[\"year\"] = pd.to_datetime(data[\"update_date\"]).dt.year #将update_date从例如2019-02-20的str变为datetime格式，并提取处year\n",
    "del data[\"update_date\"] #删除 update_date特征，其使命已完成\n",
    "data = data[data[\"year\"] >= 2019] #找出 year 中2019年以后的数据，并将其他数据删除\n",
    "\n",
    "# data.groupby(['categories','year']) #以 categories 进行排序，如果同一个categories 相同则使用 year 特征进行排序\n",
    "data.reset_index(drop=True, inplace=True) #重新编号\n",
    "data #查看结果"
   ]
  },
  {
   "cell_type": "markdown",
   "metadata": {},
   "source": [
    "这里我们就已经得到了所有2019年以后的论文，下面我们挑选出计算机领域内的所有文章："
   ]
  },
  {
   "cell_type": "code",
   "execution_count": 11,
   "metadata": {
    "ExecuteTime": {
     "end_time": "2021-01-02T04:19:54.833193Z",
     "start_time": "2021-01-02T04:19:50.681625Z"
    }
   },
   "outputs": [
    {
     "data": {
      "text/html": [
       "<div>\n",
       "<style scoped>\n",
       "    .dataframe tbody tr th:only-of-type {\n",
       "        vertical-align: middle;\n",
       "    }\n",
       "\n",
       "    .dataframe tbody tr th {\n",
       "        vertical-align: top;\n",
       "    }\n",
       "\n",
       "    .dataframe thead th {\n",
       "        text-align: right;\n",
       "    }\n",
       "</style>\n",
       "<table border=\"1\" class=\"dataframe\">\n",
       "  <thead>\n",
       "    <tr style=\"text-align: right;\">\n",
       "      <th></th>\n",
       "      <th>group_name</th>\n",
       "      <th>archive_name</th>\n",
       "      <th>archive_id</th>\n",
       "      <th>category_name</th>\n",
       "      <th>categories</th>\n",
       "      <th>category_description</th>\n",
       "    </tr>\n",
       "  </thead>\n",
       "  <tbody>\n",
       "    <tr>\n",
       "      <th>0</th>\n",
       "      <td>Computer Science</td>\n",
       "      <td>Computer Science</td>\n",
       "      <td>Computer Science</td>\n",
       "      <td>Artificial Intelligence</td>\n",
       "      <td>cs.AI</td>\n",
       "      <td>Covers all areas of AI except Vision, Robotics...</td>\n",
       "    </tr>\n",
       "    <tr>\n",
       "      <th>1</th>\n",
       "      <td>Computer Science</td>\n",
       "      <td>Computer Science</td>\n",
       "      <td>Computer Science</td>\n",
       "      <td>Hardware Architecture</td>\n",
       "      <td>cs.AR</td>\n",
       "      <td>Covers systems organization and hardware archi...</td>\n",
       "    </tr>\n",
       "    <tr>\n",
       "      <th>2</th>\n",
       "      <td>Computer Science</td>\n",
       "      <td>Computer Science</td>\n",
       "      <td>Computer Science</td>\n",
       "      <td>Computational Complexity</td>\n",
       "      <td>cs.CC</td>\n",
       "      <td>Covers models of computation, complexity class...</td>\n",
       "    </tr>\n",
       "    <tr>\n",
       "      <th>3</th>\n",
       "      <td>Computer Science</td>\n",
       "      <td>Computer Science</td>\n",
       "      <td>Computer Science</td>\n",
       "      <td>Computational Engineering, Finance, and Science</td>\n",
       "      <td>cs.CE</td>\n",
       "      <td>Covers applications of computer science to the...</td>\n",
       "    </tr>\n",
       "    <tr>\n",
       "      <th>4</th>\n",
       "      <td>Computer Science</td>\n",
       "      <td>Computer Science</td>\n",
       "      <td>Computer Science</td>\n",
       "      <td>Computational Geometry</td>\n",
       "      <td>cs.CG</td>\n",
       "      <td>Roughly includes material in ACM Subject Class...</td>\n",
       "    </tr>\n",
       "    <tr>\n",
       "      <th>...</th>\n",
       "      <td>...</td>\n",
       "      <td>...</td>\n",
       "      <td>...</td>\n",
       "      <td>...</td>\n",
       "      <td>...</td>\n",
       "      <td>...</td>\n",
       "    </tr>\n",
       "    <tr>\n",
       "      <th>150</th>\n",
       "      <td>Statistics</td>\n",
       "      <td>Statistics</td>\n",
       "      <td>Statistics</td>\n",
       "      <td>Computation</td>\n",
       "      <td>stat.CO</td>\n",
       "      <td>Algorithms, Simulation, Visualization</td>\n",
       "    </tr>\n",
       "    <tr>\n",
       "      <th>151</th>\n",
       "      <td>Statistics</td>\n",
       "      <td>Statistics</td>\n",
       "      <td>Statistics</td>\n",
       "      <td>Methodology</td>\n",
       "      <td>stat.ME</td>\n",
       "      <td>Design, Surveys, Model Selection, Multiple Tes...</td>\n",
       "    </tr>\n",
       "    <tr>\n",
       "      <th>152</th>\n",
       "      <td>Statistics</td>\n",
       "      <td>Statistics</td>\n",
       "      <td>Statistics</td>\n",
       "      <td>Machine Learning</td>\n",
       "      <td>stat.ML</td>\n",
       "      <td>Covers machine learning papers (supervised, un...</td>\n",
       "    </tr>\n",
       "    <tr>\n",
       "      <th>153</th>\n",
       "      <td>Statistics</td>\n",
       "      <td>Statistics</td>\n",
       "      <td>Statistics</td>\n",
       "      <td>Other Statistics</td>\n",
       "      <td>stat.OT</td>\n",
       "      <td>Work in statistics that does not fit into the ...</td>\n",
       "    </tr>\n",
       "    <tr>\n",
       "      <th>154</th>\n",
       "      <td>Statistics</td>\n",
       "      <td>Statistics</td>\n",
       "      <td>Statistics</td>\n",
       "      <td>Statistics Theory</td>\n",
       "      <td>stat.TH</td>\n",
       "      <td>stat.TH is an alias for math.ST. Asymptotics, ...</td>\n",
       "    </tr>\n",
       "  </tbody>\n",
       "</table>\n",
       "<p>155 rows × 6 columns</p>\n",
       "</div>"
      ],
      "text/plain": [
       "           group_name      archive_name        archive_id  \\\n",
       "0    Computer Science  Computer Science  Computer Science   \n",
       "1    Computer Science  Computer Science  Computer Science   \n",
       "2    Computer Science  Computer Science  Computer Science   \n",
       "3    Computer Science  Computer Science  Computer Science   \n",
       "4    Computer Science  Computer Science  Computer Science   \n",
       "..                ...               ...               ...   \n",
       "150        Statistics        Statistics        Statistics   \n",
       "151        Statistics        Statistics        Statistics   \n",
       "152        Statistics        Statistics        Statistics   \n",
       "153        Statistics        Statistics        Statistics   \n",
       "154        Statistics        Statistics        Statistics   \n",
       "\n",
       "                                       category_name categories  \\\n",
       "0                            Artificial Intelligence      cs.AI   \n",
       "1                              Hardware Architecture      cs.AR   \n",
       "2                           Computational Complexity      cs.CC   \n",
       "3    Computational Engineering, Finance, and Science      cs.CE   \n",
       "4                             Computational Geometry      cs.CG   \n",
       "..                                               ...        ...   \n",
       "150                                      Computation    stat.CO   \n",
       "151                                      Methodology    stat.ME   \n",
       "152                                 Machine Learning    stat.ML   \n",
       "153                                 Other Statistics    stat.OT   \n",
       "154                                Statistics Theory    stat.TH   \n",
       "\n",
       "                                  category_description  \n",
       "0    Covers all areas of AI except Vision, Robotics...  \n",
       "1    Covers systems organization and hardware archi...  \n",
       "2    Covers models of computation, complexity class...  \n",
       "3    Covers applications of computer science to the...  \n",
       "4    Roughly includes material in ACM Subject Class...  \n",
       "..                                                 ...  \n",
       "150              Algorithms, Simulation, Visualization  \n",
       "151  Design, Surveys, Model Selection, Multiple Tes...  \n",
       "152  Covers machine learning papers (supervised, un...  \n",
       "153  Work in statistics that does not fit into the ...  \n",
       "154  stat.TH is an alias for math.ST. Asymptotics, ...  \n",
       "\n",
       "[155 rows x 6 columns]"
      ]
     },
     "execution_count": 11,
     "metadata": {},
     "output_type": "execute_result"
    }
   ],
   "source": [
    "#爬取所有的类别\n",
    "website_url = requests.get('https://arxiv.org/category_taxonomy').text #获取网页的文本数据\n",
    "soup = BeautifulSoup(website_url) #爬取数据，这里使用lxml的解析器，加速\n",
    "root = soup.find('div',{'id':'category_taxonomy_list'}) #找出 BeautifulSoup 对应的标签入口\n",
    "tags = root.find_all([\"h2\",\"h3\",\"h4\",\"p\"], recursive=True) #读取 tags\n",
    "\n",
    "#初始化 str 和 list 变量\n",
    "level_1_name = \"\"\n",
    "level_2_name = \"\"\n",
    "level_2_code = \"\"\n",
    "level_1_names = []\n",
    "level_2_codes = []\n",
    "level_2_names = []\n",
    "level_3_codes = []\n",
    "level_3_names = []\n",
    "level_3_notes = []\n",
    "\n",
    "#进行\n",
    "for t in tags:\n",
    "    if t.name == \"h2\":\n",
    "        level_1_name = t.text    \n",
    "        level_2_code = t.text\n",
    "        level_2_name = t.text\n",
    "    elif t.name == \"h3\":\n",
    "        raw = t.text\n",
    "        level_2_code = re.sub(r\"(.*)\\((.*)\\)\",r\"\\2\",raw) #正则表达式：模式字符串：(.*)\\((.*)\\)；被替换字符串\"\\2\"；被处理字符串：raw\n",
    "        level_2_name = re.sub(r\"(.*)\\((.*)\\)\",r\"\\1\",raw)\n",
    "    elif t.name == \"h4\":\n",
    "        raw = t.text\n",
    "        level_3_code = re.sub(r\"(.*) \\((.*)\\)\",r\"\\1\",raw)\n",
    "        level_3_name = re.sub(r\"(.*) \\((.*)\\)\",r\"\\2\",raw)\n",
    "    elif t.name == \"p\":\n",
    "        notes = t.text\n",
    "        level_1_names.append(level_1_name)\n",
    "        level_2_names.append(level_2_name)\n",
    "        level_2_codes.append(level_2_code)\n",
    "        level_3_names.append(level_3_name)\n",
    "        level_3_codes.append(level_3_code)\n",
    "        level_3_notes.append(notes)\n",
    "\n",
    "#根据以上信息生成dataframe格式的数据\n",
    "df_taxonomy = pd.DataFrame({\n",
    "    'group_name' : level_1_names,\n",
    "    'archive_name' : level_2_names,\n",
    "    'archive_id' : level_2_codes,\n",
    "    'category_name' : level_3_names,\n",
    "    'categories' : level_3_codes,\n",
    "    'category_description': level_3_notes\n",
    "    \n",
    "})\n",
    "\n",
    "#按照 \"group_name\" 进行分组，在组内使用 \"archive_name\" 进行排序\n",
    "df_taxonomy.groupby([\"group_name\",\"archive_name\"])\n",
    "df_taxonomy"
   ]
  },
  {
   "cell_type": "markdown",
   "metadata": {},
   "source": [
    "这里主要说明一下上面代码中的正则操作，这里我们使用re.sub来用于替换字符串中的匹配项\n",
    "\n",
    "- pattern : 正则中的模式字符串。\n",
    "- repl : 替换的字符串，也可为一个函数。\n",
    "- string : 要被查找替换的原始字符串。\n",
    "- count : 模式匹配后替换的最大次数，默认 0 表示替换所有的匹配。\n",
    "- flags : 编译时用的匹配模式，数字形式。\n",
    "- 其中pattern、repl、string为必选参数\n",
    "\n",
    "re.sub(pattern, repl, string, count=0, flags=0)\n",
    "\n",
    "实例如下："
   ]
  },
  {
   "cell_type": "code",
   "execution_count": 12,
   "metadata": {
    "ExecuteTime": {
     "end_time": "2021-01-02T04:19:59.140189Z",
     "start_time": "2021-01-02T04:19:59.132494Z"
    }
   },
   "outputs": [
    {
     "name": "stdout",
     "output_type": "stream",
     "text": [
      "电话号码 :  2004-959-559 \n",
      "电话号码 :  2004959559\n"
     ]
    }
   ],
   "source": [
    "import re\n",
    "\n",
    "phone = \"2004-959-559 # 这是一个电话号码\"\n",
    " \n",
    "# 删除注释\n",
    "num = re.sub(r'#.*$', \"\", phone)\n",
    "print (\"电话号码 : \", num)\n",
    " \n",
    "# 移除非数字的内容\n",
    "num = re.sub(r'\\D', \"\", phone)\n",
    "print (\"电话号码 : \", num)"
   ]
  },
  {
   "cell_type": "markdown",
   "metadata": {},
   "source": [
    "详细了解可以参考：[https://www.runoob.com/python3/python3-reg-expressions.html](https://www.runoob.com/python3/python3-reg-expressions.html)\n",
    "\n",
    "对于我们的代码来说："
   ]
  },
  {
   "cell_type": "code",
   "execution_count": 13,
   "metadata": {
    "ExecuteTime": {
     "end_time": "2021-01-02T04:20:00.747341Z",
     "start_time": "2021-01-02T04:20:00.741522Z"
    }
   },
   "outputs": [
    {
     "data": {
      "text/plain": [
       "'astro-ph'"
      ]
     },
     "execution_count": 13,
     "metadata": {},
     "output_type": "execute_result"
    }
   ],
   "source": [
    "re.sub(r\"(.*)\\((.*)\\)\",r\"\\2\", \" Astrophysics(astro-ph)\")"
   ]
  },
  {
   "cell_type": "markdown",
   "metadata": {},
   "source": [
    "对应的参数\n",
    "\n",
    "- 正则中的模式字符串 pattern 的格式为 “任意字符” + “(” + \"任意字符\" + \")\"。\n",
    "- 替换的字符串 repl 为第2个分组的内容。\n",
    "- 要被查找替换的原始字符串 string 为原始的爬取的数据。\n",
    "\n",
    "这里推荐大家一个在线正则表达式测试的网站：[https://tool.oschina.net/regex/](https://tool.oschina.net/regex/)"
   ]
  },
  {
   "cell_type": "markdown",
   "metadata": {},
   "source": [
    "### 数据分析及可视化\n",
    "\n",
    "接下来我们首先看一下所有大类的paper数量分布：\n",
    "\n",
    "我们使用merge函数，以两个dataframe共同的属性 “categories” 进行合并，并以 “group_name” 作为类别进行统计，统计结果放入 “id” 列中并排序。"
   ]
  },
  {
   "cell_type": "code",
   "execution_count": 14,
   "metadata": {
    "ExecuteTime": {
     "end_time": "2021-01-02T04:20:03.374053Z",
     "start_time": "2021-01-02T04:20:03.002091Z"
    }
   },
   "outputs": [
    {
     "data": {
      "text/html": [
       "<div>\n",
       "<style scoped>\n",
       "    .dataframe tbody tr th:only-of-type {\n",
       "        vertical-align: middle;\n",
       "    }\n",
       "\n",
       "    .dataframe tbody tr th {\n",
       "        vertical-align: top;\n",
       "    }\n",
       "\n",
       "    .dataframe thead th {\n",
       "        text-align: right;\n",
       "    }\n",
       "</style>\n",
       "<table border=\"1\" class=\"dataframe\">\n",
       "  <thead>\n",
       "    <tr style=\"text-align: right;\">\n",
       "      <th></th>\n",
       "      <th>group_name</th>\n",
       "      <th>id</th>\n",
       "    </tr>\n",
       "  </thead>\n",
       "  <tbody>\n",
       "    <tr>\n",
       "      <th>0</th>\n",
       "      <td>Physics</td>\n",
       "      <td>38379</td>\n",
       "    </tr>\n",
       "    <tr>\n",
       "      <th>1</th>\n",
       "      <td>Mathematics</td>\n",
       "      <td>24495</td>\n",
       "    </tr>\n",
       "    <tr>\n",
       "      <th>2</th>\n",
       "      <td>Computer Science</td>\n",
       "      <td>18087</td>\n",
       "    </tr>\n",
       "    <tr>\n",
       "      <th>3</th>\n",
       "      <td>Statistics</td>\n",
       "      <td>1802</td>\n",
       "    </tr>\n",
       "    <tr>\n",
       "      <th>4</th>\n",
       "      <td>Electrical Engineering and Systems Science</td>\n",
       "      <td>1371</td>\n",
       "    </tr>\n",
       "    <tr>\n",
       "      <th>5</th>\n",
       "      <td>Quantitative Biology</td>\n",
       "      <td>886</td>\n",
       "    </tr>\n",
       "    <tr>\n",
       "      <th>6</th>\n",
       "      <td>Quantitative Finance</td>\n",
       "      <td>352</td>\n",
       "    </tr>\n",
       "    <tr>\n",
       "      <th>7</th>\n",
       "      <td>Economics</td>\n",
       "      <td>173</td>\n",
       "    </tr>\n",
       "  </tbody>\n",
       "</table>\n",
       "</div>"
      ],
      "text/plain": [
       "                                   group_name     id\n",
       "0                                     Physics  38379\n",
       "1                                 Mathematics  24495\n",
       "2                            Computer Science  18087\n",
       "3                                  Statistics   1802\n",
       "4  Electrical Engineering and Systems Science   1371\n",
       "5                        Quantitative Biology    886\n",
       "6                        Quantitative Finance    352\n",
       "7                                   Economics    173"
      ]
     },
     "execution_count": 14,
     "metadata": {},
     "output_type": "execute_result"
    }
   ],
   "source": [
    "_df = data.merge(df_taxonomy, on=\"categories\", how=\"left\").drop_duplicates([\"id\",\"group_name\"]).groupby(\"group_name\").agg({\"id\":\"count\"}).sort_values(by=\"id\",ascending=False).reset_index()\n",
    "\n",
    "_df\n"
   ]
  },
  {
   "cell_type": "markdown",
   "metadata": {},
   "source": [
    "下面我们使用饼图进行上图结果的可视化："
   ]
  },
  {
   "cell_type": "code",
   "execution_count": 15,
   "metadata": {
    "ExecuteTime": {
     "end_time": "2021-01-02T04:20:05.773739Z",
     "start_time": "2021-01-02T04:20:05.375789Z"
    }
   },
   "outputs": [
    {
     "data": {
      "image/png": "[encoded data removed]",
      "text/plain": [
       "<Figure size 1080x864 with 1 Axes>"
      ]
     },
     "metadata": {},
     "output_type": "display_data"
    }
   ],
   "source": [
    "fig = plt.figure(figsize=(15,12))\n",
    "explode = (0, 0, 0, 0.2, 0.3, 0.3, 0.2, 0.1) \n",
    "plt.pie(_df[\"id\"],  labels=_df[\"group_name\"], autopct='%1.2f%%', startangle=160, explode=explode)\n",
    "plt.tight_layout()\n",
    "plt.show()"
   ]
  },
  {
   "cell_type": "markdown",
   "metadata": {},
   "source": [
    "下面统计在计算机各个子领域2019年后的paper数量，我们同样使用 merge 函数，对于两个dataframe 共同的特征 categories  进行合并并且进行查询。然后我们再对于数据进行统计和排序从而得到以下的结果："
   ]
  },
  {
   "cell_type": "code",
   "execution_count": 16,
   "metadata": {
    "ExecuteTime": {
     "end_time": "2021-01-02T04:20:08.518021Z",
     "start_time": "2021-01-02T04:20:08.322838Z"
    }
   },
   "outputs": [
    {
     "data": {
      "text/html": [
       "<div>\n",
       "<style scoped>\n",
       "    .dataframe tbody tr th:only-of-type {\n",
       "        vertical-align: middle;\n",
       "    }\n",
       "\n",
       "    .dataframe tbody tr th {\n",
       "        vertical-align: top;\n",
       "    }\n",
       "\n",
       "    .dataframe thead th {\n",
       "        text-align: right;\n",
       "    }\n",
       "</style>\n",
       "<table border=\"1\" class=\"dataframe\">\n",
       "  <thead>\n",
       "    <tr style=\"text-align: right;\">\n",
       "      <th>year</th>\n",
       "      <th>2019</th>\n",
       "    </tr>\n",
       "    <tr>\n",
       "      <th>category_name</th>\n",
       "      <th></th>\n",
       "    </tr>\n",
       "  </thead>\n",
       "  <tbody>\n",
       "    <tr>\n",
       "      <th>Artificial Intelligence</th>\n",
       "      <td>558</td>\n",
       "    </tr>\n",
       "    <tr>\n",
       "      <th>Computation and Language</th>\n",
       "      <td>2153</td>\n",
       "    </tr>\n",
       "    <tr>\n",
       "      <th>Computational Complexity</th>\n",
       "      <td>131</td>\n",
       "    </tr>\n",
       "    <tr>\n",
       "      <th>Computational Engineering, Finance, and Science</th>\n",
       "      <td>108</td>\n",
       "    </tr>\n",
       "    <tr>\n",
       "      <th>Computational Geometry</th>\n",
       "      <td>199</td>\n",
       "    </tr>\n",
       "    <tr>\n",
       "      <th>Computer Science and Game Theory</th>\n",
       "      <td>281</td>\n",
       "    </tr>\n",
       "    <tr>\n",
       "      <th>Computer Vision and Pattern Recognition</th>\n",
       "      <td>5559</td>\n",
       "    </tr>\n",
       "    <tr>\n",
       "      <th>Computers and Society</th>\n",
       "      <td>346</td>\n",
       "    </tr>\n",
       "    <tr>\n",
       "      <th>Cryptography and Security</th>\n",
       "      <td>1067</td>\n",
       "    </tr>\n",
       "    <tr>\n",
       "      <th>Data Structures and Algorithms</th>\n",
       "      <td>711</td>\n",
       "    </tr>\n",
       "    <tr>\n",
       "      <th>Databases</th>\n",
       "      <td>282</td>\n",
       "    </tr>\n",
       "    <tr>\n",
       "      <th>Digital Libraries</th>\n",
       "      <td>125</td>\n",
       "    </tr>\n",
       "    <tr>\n",
       "      <th>Discrete Mathematics</th>\n",
       "      <td>84</td>\n",
       "    </tr>\n",
       "    <tr>\n",
       "      <th>Distributed, Parallel, and Cluster Computing</th>\n",
       "      <td>715</td>\n",
       "    </tr>\n",
       "    <tr>\n",
       "      <th>Emerging Technologies</th>\n",
       "      <td>101</td>\n",
       "    </tr>\n",
       "    <tr>\n",
       "      <th>Formal Languages and Automata Theory</th>\n",
       "      <td>152</td>\n",
       "    </tr>\n",
       "    <tr>\n",
       "      <th>General Literature</th>\n",
       "      <td>5</td>\n",
       "    </tr>\n",
       "    <tr>\n",
       "      <th>Graphics</th>\n",
       "      <td>116</td>\n",
       "    </tr>\n",
       "    <tr>\n",
       "      <th>Hardware Architecture</th>\n",
       "      <td>95</td>\n",
       "    </tr>\n",
       "    <tr>\n",
       "      <th>Human-Computer Interaction</th>\n",
       "      <td>420</td>\n",
       "    </tr>\n",
       "    <tr>\n",
       "      <th>Information Retrieval</th>\n",
       "      <td>245</td>\n",
       "    </tr>\n",
       "    <tr>\n",
       "      <th>Logic in Computer Science</th>\n",
       "      <td>470</td>\n",
       "    </tr>\n",
       "    <tr>\n",
       "      <th>Machine Learning</th>\n",
       "      <td>177</td>\n",
       "    </tr>\n",
       "    <tr>\n",
       "      <th>Mathematical Software</th>\n",
       "      <td>27</td>\n",
       "    </tr>\n",
       "    <tr>\n",
       "      <th>Multiagent Systems</th>\n",
       "      <td>85</td>\n",
       "    </tr>\n",
       "    <tr>\n",
       "      <th>Multimedia</th>\n",
       "      <td>76</td>\n",
       "    </tr>\n",
       "    <tr>\n",
       "      <th>Networking and Internet Architecture</th>\n",
       "      <td>864</td>\n",
       "    </tr>\n",
       "    <tr>\n",
       "      <th>Neural and Evolutionary Computing</th>\n",
       "      <td>235</td>\n",
       "    </tr>\n",
       "    <tr>\n",
       "      <th>Numerical Analysis</th>\n",
       "      <td>40</td>\n",
       "    </tr>\n",
       "    <tr>\n",
       "      <th>Operating Systems</th>\n",
       "      <td>36</td>\n",
       "    </tr>\n",
       "    <tr>\n",
       "      <th>Other Computer Science</th>\n",
       "      <td>67</td>\n",
       "    </tr>\n",
       "    <tr>\n",
       "      <th>Performance</th>\n",
       "      <td>45</td>\n",
       "    </tr>\n",
       "    <tr>\n",
       "      <th>Programming Languages</th>\n",
       "      <td>268</td>\n",
       "    </tr>\n",
       "    <tr>\n",
       "      <th>Robotics</th>\n",
       "      <td>917</td>\n",
       "    </tr>\n",
       "    <tr>\n",
       "      <th>Social and Information Networks</th>\n",
       "      <td>202</td>\n",
       "    </tr>\n",
       "    <tr>\n",
       "      <th>Software Engineering</th>\n",
       "      <td>659</td>\n",
       "    </tr>\n",
       "    <tr>\n",
       "      <th>Sound</th>\n",
       "      <td>7</td>\n",
       "    </tr>\n",
       "    <tr>\n",
       "      <th>Symbolic Computation</th>\n",
       "      <td>44</td>\n",
       "    </tr>\n",
       "    <tr>\n",
       "      <th>Systems and Control</th>\n",
       "      <td>415</td>\n",
       "    </tr>\n",
       "  </tbody>\n",
       "</table>\n",
       "</div>"
      ],
      "text/plain": [
       "year                                             2019\n",
       "category_name                                        \n",
       "Artificial Intelligence                           558\n",
       "Computation and Language                         2153\n",
       "Computational Complexity                          131\n",
       "Computational Engineering, Finance, and Science   108\n",
       "Computational Geometry                            199\n",
       "Computer Science and Game Theory                  281\n",
       "Computer Vision and Pattern Recognition          5559\n",
       "Computers and Society                             346\n",
       "Cryptography and Security                        1067\n",
       "Data Structures and Algorithms                    711\n",
       "Databases                                         282\n",
       "Digital Libraries                                 125\n",
       "Discrete Mathematics                               84\n",
       "Distributed, Parallel, and Cluster Computing      715\n",
       "Emerging Technologies                             101\n",
       "Formal Languages and Automata Theory              152\n",
       "General Literature                                  5\n",
       "Graphics                                          116\n",
       "Hardware Architecture                              95\n",
       "Human-Computer Interaction                        420\n",
       "Information Retrieval                             245\n",
       "Logic in Computer Science                         470\n",
       "Machine Learning                                  177\n",
       "Mathematical Software                              27\n",
       "Multiagent Systems                                 85\n",
       "Multimedia                                         76\n",
       "Networking and Internet Architecture              864\n",
       "Neural and Evolutionary Computing                 235\n",
       "Numerical Analysis                                 40\n",
       "Operating Systems                                  36\n",
       "Other Computer Science                             67\n",
       "Performance                                        45\n",
       "Programming Languages                             268\n",
       "Robotics                                          917\n",
       "Social and Information Networks                   202\n",
       "Software Engineering                              659\n",
       "Sound                                               7\n",
       "Symbolic Computation                               44\n",
       "Systems and Control                               415"
      ]
     },
     "execution_count": 16,
     "metadata": {},
     "output_type": "execute_result"
    }
   ],
   "source": [
    "group_name=\"Computer Science\"\n",
    "cats = data.merge(df_taxonomy, on=\"categories\").query(\"group_name == @group_name\")\n",
    "cats.groupby([\"year\",\"category_name\"]).count().reset_index().pivot(index=\"category_name\", columns=\"year\",values=\"id\") \n"
   ]
  },
  {
   "cell_type": "markdown",
   "metadata": {},
   "source": [
    "我们可以从结果看出，Computer Vision and Pattern Recognition（计算机视觉与模式识别）类是CS中paper数量最多的子类，遥遥领先于其他的CS子类，并且paper的数量还在逐年增加；另外，Computation and Language（计算与语言）、Cryptography and Security（密码学与安全）以及 Robotics（机器人学）的2019年paper数量均超过1000或接近1000，这与我们的认知是一致的。"
   ]
  },
  {
   "cell_type": "code",
   "execution_count": null,
   "metadata": {},
   "outputs": [],
   "source": []
  }
 ],
 "metadata": {
  "kernelspec": {
   "display_name": "Python 3",
   "language": "python",
   "name": "python3"
  },
  "language_info": {
   "codemirror_mode": {
    "name": "ipython",
    "version": 3
   },
   "file_extension": ".py",
   "mimetype": "text/x-python",
   "name": "python",
   "nbconvert_exporter": "python",
   "pygments_lexer": "ipython3",
   "version": "3.6.5"
  },
  "tianchi_metadata": {
   "competitions": [],
   "datasets": [
    {
     "id": "88336",
     "title": "零基础入门数据分析-学术前沿趋势分析"
    }
   ],
   "description": "",
   "notebookId": "148195",
   "source": "dsw"
  },
  "toc": {
   "base_numbering": 1,
   "nav_menu": {},
   "number_sections": true,
   "sideBar": true,
   "skip_h1_title": false,
   "title_cell": "Table of Contents",
   "title_sidebar": "Contents",
   "toc_cell": false,
   "toc_position": {},
   "toc_section_display": true,
   "toc_window_display": true
  }
 },
 "nbformat": 4,
 "nbformat_minor": 4
}
